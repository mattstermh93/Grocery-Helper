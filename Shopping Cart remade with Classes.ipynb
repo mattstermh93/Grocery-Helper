{
 "cells": [
  {
   "cell_type": "code",
   "execution_count": null,
   "metadata": {},
   "outputs": [
    {
     "name": "stdout",
     "output_type": "stream",
     "text": [
      "Instructions \n",
      "\n",
      "Type 'add' to add an item to your cart\n",
      "Type 'delete' to delete items from your shopping cart\n",
      "Type 'show'  to see what is currently in your shopping cart\n",
      "Type 'quit' to exit the program and see what is in your shopping cart\n",
      "What would you like to to do? add\n",
      "What would you like to add?  afl;kdasf\n",
      "afl;kdasf has been added\n",
      "Sorry, I do not understand. Please try again. \n",
      "What would you like to to do? add\n",
      "What would you like to add?  bananas\n",
      "bananas has been added\n"
     ]
    }
   ],
   "source": [
    "class FoodInfo():\n",
    "    def __init__(self):\n",
    "        self.food = ['grapes', 'olives', 'apples', 'oranges', 'donuts', 'bread', 'cheese', 'milk', 'salad', 'burgers', 'tomatos', 'potatos', 'almonds', 'eggs',\n",
    "       'olive oil', 'peaches', 'plums', 'garlic', 'pepper', 'salt', 'bananas', 'chicken', 'meat', 'soy', 'macaroni', 'pasta',\n",
    "       'sauce', 'toilet paper', 'gum', 'toothpaste', 'toothbrush''tissues', 'orange juice', 'grape juice', 'wine', 'beer', 'liquor', 'tequila', 'grapefruit', 'mango']\n",
    "\n",
    "        self.shopping_list = []\n",
    "\n",
    "class GoingShopping(FoodInfo):\n",
    "    def __init__(self):\n",
    "        super().__init__()\n",
    "\n",
    "    def displayInstructions(self):\n",
    "        print(\"Instructions \\n\")\n",
    "        print(\"Type 'add' to add an item to your cart\")\n",
    "        print(\"Type 'delete' to delete items from your shopping cart\")\n",
    "        print(\"Type 'show'  to see what is currently in your shopping cart\")\n",
    "        print(\"Type 'quit' to exit the program and see what is in your shopping cart\")\n",
    "\n",
    "    def addItem(self):\n",
    "        what_item = input('What would you like to add?  ')\n",
    "        self.shopping_list.append(what_item)  \n",
    "        print('{} has been added'.format(what_item))\n",
    "        if what_item not in self.food:\n",
    "            print('Sorry, I do not understand. Please try again. ')\n",
    "            \n",
    "    def deleteItems(self):\n",
    "        deleteItem = input('what would you like to delete? ')\n",
    "        if deleteItem not in self.shopping_list:\n",
    "            print('That item is not in the list!')\n",
    "        else:\n",
    "            self.shopping_list.remove(deleteItem)\n",
    "            \n",
    "    def showItems(self):\n",
    "        print('Here are your items\\n \\n ---------- \\n ---------- \\n  \\n {} '.format(self.shopping_list))\n",
    "   \n",
    "    def quitProgram(self):\n",
    "        quit = input(\"Do you want to quit? Type yes or no\")\n",
    "        print('Have a great day! Here are your items \\n----------\\n---------- \\n {} '.format(self.shopping_list))\n",
    "        if quit == 'yes':\n",
    "            return True\n",
    "        elif quit == 'no':\n",
    "            return False\n",
    "\n",
    "    def goShopping(self):\n",
    "        \n",
    "        self.displayInstructions()\n",
    "        while True:\n",
    "            what_to_do = input (\"What would you like to to do? \")\n",
    "            if what_to_do == 'add':\n",
    "                self.addItem()\n",
    "                continue\n",
    "            elif what_to_do == 'quit':\n",
    "                if self.quitProgram() == True:\n",
    "                    break\n",
    "                else:\n",
    "                    continue\n",
    "            elif what_to_do == 'show':\n",
    "                self.showItems()\n",
    "            elif what_to_do == 'delete':\n",
    "                self.deleteItems()\n",
    "                continue              \n",
    "                \n",
    "\n",
    "ShopTime= GoingShopping()\n",
    "ShopTime.goShopping()"
   ]
  }
 ],
 "metadata": {
  "kernelspec": {
   "display_name": "Python 3",
   "language": "python",
   "name": "python3"
  },
  "language_info": {
   "codemirror_mode": {
    "name": "ipython",
    "version": 3
   },
   "file_extension": ".py",
   "mimetype": "text/x-python",
   "name": "python",
   "nbconvert_exporter": "python",
   "pygments_lexer": "ipython3",
   "version": "3.6.4"
  }
 },
 "nbformat": 4,
 "nbformat_minor": 2
}
